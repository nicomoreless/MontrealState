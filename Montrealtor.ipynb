{
 "cells": [
  {
   "cell_type": "code",
   "execution_count": null,
   "id": "enormous-session",
   "metadata": {},
   "outputs": [],
   "source": [
    "\n",
    "from datetime import datetime\n",
    "import pandas as pd\n",
    "import requests\n",
    "import json\n",
    "\n"
   ]
  },
  {
   "cell_type": "code",
   "execution_count": null,
   "id": "greater-senior",
   "metadata": {},
   "outputs": [],
   "source": [
    "\n",
    "url = \"https://realtor-canadian-real-estate.p.rapidapi.com/properties/list-residential\"\n",
    "\n",
    "querystring = {\"CurrentPage\":\"1\",\"LatitudeMin\":\"45.26\",\"LongitudeMax\":\"-73.337831\",\"RecordsPerPage\":\"50\",\"LongitudeMin\":\"-74.379481\",\"LatitudeMax\":\"45.735976\",\"BedRange\":\"0-0\",\"BathRange\":\"0-0\",\"NumberOfDays\":\"0\",\"CultureId\":\"1\",\"PriceMin\":\"0\",\"SortBy\":\"1\",\"SortOrder\":\"A\",\"RentMin\":\"0\",\"BuildingTypeId\":\"1\"}\n",
    "\n",
    "headers = {\n",
    "    'x-rapidapi-key': \"1c926bc8camshb7e051c044fd07ep1e1d63jsn48235fdac42f\",\n",
    "    'x-rapidapi-host': \"realtor-canadian-real-estate.p.rapidapi.com\"\n",
    "    }\n",
    "\n",
    "response = requests.request(\"GET\", url, headers=headers, params=querystring)\n",
    "\n",
    "\n"
   ]
  },
  {
   "cell_type": "code",
   "execution_count": null,
   "id": "canadian-front",
   "metadata": {},
   "outputs": [],
   "source": [
    "results = response.json()['Results']"
   ]
  },
  {
   "cell_type": "code",
   "execution_count": null,
   "id": "played-rebecca",
   "metadata": {},
   "outputs": [],
   "source": [
    "results"
   ]
  },
  {
   "cell_type": "code",
   "execution_count": null,
   "id": "sunrise-reputation",
   "metadata": {},
   "outputs": [],
   "source": [
    "lng = []\n",
    "lat = []\n",
    "address = []\n",
    "price = []\n",
    "postal = []\n",
    "bathrooms= []\n",
    "bedrooms = []\n",
    "area = []\n",
    "for result in results:\n",
    "    lng.append(result['Property']['Address']['Longitude'])\n",
    "    lat.append(result['Property']['Address']['Latitude'])\n",
    "    address.append(result['Property']['Address']['AddressText'])\n",
    "    postal.append(result['PostalCode'])\n",
    "    bathrooms.append(result['Building'].get('BathroomTotal', 0))\n",
    "    bedrooms.append(result['Building'].get('Bedrooms', 0))\n",
    "    price.append(result['Property']['Price'])\n",
    "    area.append(result['Land'].get('SizeTotal'))\n",
    "    "
   ]
  },
  {
   "cell_type": "code",
   "execution_count": null,
   "id": "signed-province",
   "metadata": {},
   "outputs": [],
   "source": [
    "data = pd.DataFrame(\n",
    "    {'Address': address,\n",
    "     'Postal_Code': postal,\n",
    "     'Latitude': lat,\n",
    "     'Longitude': lng,\n",
    "     \"Bathrooms\": bathrooms,\n",
    "     \"Bedrooms\" : bedrooms,\n",
    "     \"Area\" : area,\n",
    "     \"Price\" : price\n",
    "    })"
   ]
  },
  {
   "cell_type": "code",
   "execution_count": null,
   "id": "progressive-swimming",
   "metadata": {},
   "outputs": [],
   "source": [
    "data.head()"
   ]
  },
  {
   "cell_type": "code",
   "execution_count": null,
   "id": "included-skating",
   "metadata": {},
   "outputs": [],
   "source": [
    "\n",
    "    \n",
    "    "
   ]
  },
  {
   "cell_type": "code",
   "execution_count": null,
   "id": "adjustable-gibson",
   "metadata": {},
   "outputs": [],
   "source": []
  },
  {
   "cell_type": "code",
   "execution_count": null,
   "id": "fifth-consultation",
   "metadata": {},
   "outputs": [],
   "source": []
  },
  {
   "cell_type": "code",
   "execution_count": null,
   "id": "controlled-plain",
   "metadata": {},
   "outputs": [],
   "source": []
  },
  {
   "cell_type": "code",
   "execution_count": null,
   "id": "premium-projection",
   "metadata": {},
   "outputs": [],
   "source": []
  },
  {
   "cell_type": "code",
   "execution_count": null,
   "id": "acknowledged-cologne",
   "metadata": {},
   "outputs": [],
   "source": []
  }
 ],
 "metadata": {
  "kernelspec": {
   "display_name": "Python 3",
   "language": "python",
   "name": "python3"
  },
  "language_info": {
   "codemirror_mode": {
    "name": "ipython",
    "version": 3
   },
   "file_extension": ".py",
   "mimetype": "text/x-python",
   "name": "python",
   "nbconvert_exporter": "python",
   "pygments_lexer": "ipython3",
   "version": "3.8.3"
  }
 },
 "nbformat": 4,
 "nbformat_minor": 5
}
